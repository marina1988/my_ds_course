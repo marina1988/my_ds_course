{
 "cells": [
  {
   "cell_type": "markdown",
   "metadata": {},
   "source": [
    "# Data types - solutions"
   ]
  },
  {
   "cell_type": "markdown",
   "metadata": {},
   "source": [
    "## Exercise 1"
   ]
  },
  {
   "cell_type": "code",
   "execution_count": 2,
   "metadata": {},
   "outputs": [],
   "source": [
    "Weight, Height = 124, 1.77"
   ]
  },
  {
   "cell_type": "code",
   "execution_count": 3,
   "metadata": {
    "collapsed": true
   },
   "outputs": [],
   "source": [
    "BMI = Weight / Height**2"
   ]
  },
  {
   "cell_type": "code",
   "execution_count": 4,
   "metadata": {},
   "outputs": [
    {
     "name": "stdout",
     "output_type": "stream",
     "text": [
      "My height is 1.77 meters, my weight is 124 Kgs, and my BMI is 39.5799419069.\n"
     ]
    }
   ],
   "source": [
    "print((\"My height is \" + str(Height) + \" meters, my weight is \" + str(Weight) + \" Kgs, and my BMI is \" + str(BMI) + \".\"))"
   ]
  },
  {
   "cell_type": "code",
   "execution_count": 5,
   "metadata": {},
   "outputs": [
    {
     "name": "stdout",
     "output_type": "stream",
     "text": [
      "My height is 1.77 meters,\n",
      "my Weight is 124 Kgs,\n",
      "and my BMI is 39.5799419069.\n"
     ]
    }
   ],
   "source": [
    "print((\"My height is \" + str(Height) + \" meters,\\nmy Weight is \" + str(Weight) + \" Kgs,\\nand my BMI is \" + str(BMI) + \".\"))"
   ]
  },
  {
   "cell_type": "markdown",
   "metadata": {},
   "source": [
    "## Exercise 2"
   ]
  },
  {
   "cell_type": "code",
   "execution_count": 7,
   "metadata": {
    "collapsed": true
   },
   "outputs": [],
   "source": [
    "first_name, last_name = 'Amit', 'Rappel'"
   ]
  },
  {
   "cell_type": "code",
   "execution_count": 8,
   "metadata": {},
   "outputs": [
    {
     "name": "stdout",
     "output_type": "stream",
     "text": [
      "10\n"
     ]
    }
   ],
   "source": [
    "print((len(first_name) + len(last_name)))"
   ]
  },
  {
   "cell_type": "code",
   "execution_count": 9,
   "metadata": {
    "collapsed": true
   },
   "outputs": [],
   "source": [
    "full_name = first_name + ' ' + last_name"
   ]
  },
  {
   "cell_type": "code",
   "execution_count": 10,
   "metadata": {},
   "outputs": [
    {
     "name": "stdout",
     "output_type": "stream",
     "text": [
      "AmIt RAppEl\n"
     ]
    }
   ],
   "source": [
    "upper_aeiou_name = full_name.replace('a','A').replace('e', 'E').replace('i', 'I').replace('o', 'O').replace('u', 'U')\n",
    "print(upper_aeiou_name)"
   ]
  },
  {
   "cell_type": "markdown",
   "metadata": {},
   "source": [
    "## Exercise 3"
   ]
  },
  {
   "cell_type": "code",
   "execution_count": 15,
   "metadata": {
    "collapsed": true
   },
   "outputs": [],
   "source": [
    "my_gender, other_gender = 'M', 'F'\n",
    "my_age, other_age = 33, 29\n",
    "my_city, other_city = 'Kfar-saba', 'Kfar-saba'\n",
    "my_marriage, other_marriage = True, False"
   ]
  },
  {
   "cell_type": "code",
   "execution_count": 16,
   "metadata": {},
   "outputs": [],
   "source": [
    "same_city = my_city == other_city"
   ]
  },
  {
   "cell_type": "code",
   "execution_count": 17,
   "metadata": {
    "collapsed": true
   },
   "outputs": [],
   "source": [
    "is_older = other_age > my_age"
   ]
  },
  {
   "cell_type": "code",
   "execution_count": 18,
   "metadata": {
    "collapsed": true
   },
   "outputs": [],
   "source": [
    "diff_gender1 = (my_gender == 'M' and other_gender == 'F') or \\\n",
    "                   (my_gender == 'F' and other_gender == 'M')\n",
    "diff_gender2 = my_gender != other_gender\n",
    "diff_gender3 = not(my_gender == other_gender)"
   ]
  },
  {
   "cell_type": "code",
   "execution_count": 19,
   "metadata": {
    "collapsed": true
   },
   "outputs": [],
   "source": [
    "both_married = my_marriage & other_marriage"
   ]
  }
 ],
 "metadata": {
  "kernelspec": {
   "display_name": "Python 3",
   "language": "python",
   "name": "python3"
  },
  "language_info": {
   "codemirror_mode": {
    "name": "ipython",
    "version": 3
   },
   "file_extension": ".py",
   "mimetype": "text/x-python",
   "name": "python",
   "nbconvert_exporter": "python",
   "pygments_lexer": "ipython3",
   "version": "3.6.3"
  }
 },
 "nbformat": 4,
 "nbformat_minor": 1
}
