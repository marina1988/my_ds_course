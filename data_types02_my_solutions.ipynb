{
 "cells": [
  {
   "cell_type": "code",
   "execution_count": null,
   "metadata": {
    "collapsed": true
   },
   "outputs": [],
   "source": [
    "#Q1\n",
    "height_in_meters=1.7\n",
    "weight_in_kilograms=61\n",
    "bmi= weight_in_kilograms/height_in_meters**2\n",
    "print(\"My height is=%.2f\" % height_in_meters+ \" ,and my BMI is=%.2f\" %weight_in_kilograms+ \" and my BMI is=%.2f.\" %bmi)\n",
    "#print(\"My height is {},and my BMI is {}  and my BMI is={}.\".format(height_in_meters,weight_in_kilograms,bmi))\n",
    "print(\"My height is=%s\\n\" % height_in_meters+ \"My weight is=%s\\n\" %weight_in_kilograms+ \"My BMI is=%s\" %bmi)"
   ]
  },
  {
   "cell_type": "code",
   "execution_count": null,
   "metadata": {
    "collapsed": true
   },
   "outputs": [],
   "source": [
    "#Q2\n",
    "fisrt_name=\"Marina\"\n",
    "last_name=\"Shnaiderman\"\n",
    "full_name=first_name+\" \"+last_name\n",
    "full_name.replace(\"a\",\"A\").replace(\"e\",\"E\").replace(\"i\",\"I\").replace(\"o\",\"O\").replace(\"u\",\"U\")\n"
   ]
  },
  {
   "cell_type": "code",
   "execution_count": null,
   "metadata": {
    "collapsed": true
   },
   "outputs": [],
   "source": [
    "#Q3\n",
    "my_gender,friend_gender =\"Female\",\"Male\"\n",
    "my_age,friend_age =29,29\n",
    "my_city,friend_city=\"Ashdod\",\"Tel-Aviv\"\n",
    "my_marial_status, friend_marial_status=False, True\n",
    "\n",
    "same_city=my_city==friend_city\n",
    "is_older=friend_age>my_age\n",
    "diff_gender=my_gender!=friend_gender\n",
    "both_married=my_marial_status & friend_marial_status\n",
    "\n",
    "print((same_city))\n",
    "print(is_older)\n",
    "print(diff_gender)\n",
    "print(both_married)"
   ]
  }
 ],
 "metadata": {
  "kernelspec": {
   "display_name": "Python 3",
   "language": "python",
   "name": "python3"
  },
  "language_info": {
   "codemirror_mode": {
    "name": "ipython",
    "version": 3
   },
   "file_extension": ".py",
   "mimetype": "text/x-python",
   "name": "python",
   "nbconvert_exporter": "python",
   "pygments_lexer": "ipython3",
   "version": "3.6.3"
  }
 },
 "nbformat": 4,
 "nbformat_minor": 2
}
