{
 "cells": [
  {
   "cell_type": "markdown",
   "metadata": {},
   "source": [
    "# Data structures - solutions"
   ]
  },
  {
   "cell_type": "markdown",
   "metadata": {},
   "source": [
    "## Lists"
   ]
  },
  {
   "cell_type": "markdown",
   "metadata": {},
   "source": [
    "### Exercise 1"
   ]
  },
  {
   "cell_type": "code",
   "execution_count": 1,
   "metadata": {
    "collapsed": true
   },
   "outputs": [],
   "source": [
    "boys = ['Hagai', 'Binyamin', 'Itamar']\n",
    "girls = ['Shoshana', 'Noga', 'Reut']"
   ]
  },
  {
   "cell_type": "code",
   "execution_count": 2,
   "metadata": {},
   "outputs": [
    {
     "name": "stdout",
     "output_type": "stream",
     "text": [
      "['Hagai', 'Binyamin', 'Itamar', 'Iddo']\n"
     ]
    }
   ],
   "source": [
    "boys.append('Iddo')\n",
    "print(boys)"
   ]
  },
  {
   "cell_type": "code",
   "execution_count": 3,
   "metadata": {},
   "outputs": [
    {
     "name": "stdout",
     "output_type": "stream",
     "text": [
      "['Ahuva', 'Shoshana', 'Noga', 'Reut']\n"
     ]
    }
   ],
   "source": [
    "girls.insert(0, 'Ahuva')\n",
    "print(girls)"
   ]
  },
  {
   "cell_type": "code",
   "execution_count": 4,
   "metadata": {},
   "outputs": [
    {
     "name": "stdout",
     "output_type": "stream",
     "text": [
      "['Ahuva', 'Shoshana', 'Noga']\n",
      "Reut\n"
     ]
    }
   ],
   "source": [
    "bride = girls.pop()\n",
    "print(girls)\n",
    "print(bride)"
   ]
  },
  {
   "cell_type": "code",
   "execution_count": 5,
   "metadata": {},
   "outputs": [
    {
     "name": "stdout",
     "output_type": "stream",
     "text": [
      "['Binyamin', 'Itamar', 'Iddo']\n",
      "Hagai\n"
     ]
    }
   ],
   "source": [
    "groom = boys.pop(0)\n",
    "print(boys)\n",
    "print(groom)"
   ]
  },
  {
   "cell_type": "code",
   "execution_count": 6,
   "metadata": {},
   "outputs": [
    {
     "name": "stdout",
     "output_type": "stream",
     "text": [
      "['Binyamin', 'Itamar']\n"
     ]
    }
   ],
   "source": [
    "boys.remove(boys[-1])\n",
    "print(boys)"
   ]
  },
  {
   "cell_type": "code",
   "execution_count": 7,
   "metadata": {
    "collapsed": true
   },
   "outputs": [],
   "source": [
    "names = boys + girls"
   ]
  },
  {
   "cell_type": "markdown",
   "metadata": {},
   "source": [
    "_boys.extend(girls)_ will change the list _boys_ itself."
   ]
  },
  {
   "cell_type": "markdown",
   "metadata": {},
   "source": [
    "### Exercise 2"
   ]
  },
  {
   "cell_type": "code",
   "execution_count": 8,
   "metadata": {
    "collapsed": true
   },
   "outputs": [],
   "source": [
    "person1 = ['Harry', 16, False]\n",
    "person2 = ['Ron', 15, False]\n",
    "person3 = ['Hermione', 16, False]"
   ]
  },
  {
   "cell_type": "code",
   "execution_count": 9,
   "metadata": {
    "collapsed": true
   },
   "outputs": [],
   "source": [
    "person2[1] = 17"
   ]
  },
  {
   "cell_type": "code",
   "execution_count": 10,
   "metadata": {},
   "outputs": [
    {
     "name": "stdout",
     "output_type": "stream",
     "text": [
      "[['Harry', 16, False], ['Ron', 17, False], ['Hermione', 16, False]]\n"
     ]
    }
   ],
   "source": [
    "guys = [person1, person2, person3]\n",
    "print(guys)"
   ]
  },
  {
   "cell_type": "code",
   "execution_count": 11,
   "metadata": {},
   "outputs": [
    {
     "name": "stdout",
     "output_type": "stream",
     "text": [
      "[['Harry', 16, False], ['Ron', 17, False], ['Hermione', 16, False], ['Hagrid', 68, True]]\n"
     ]
    }
   ],
   "source": [
    "person4 = ['Hagrid', 68, True]\n",
    "guys.append(person4)\n",
    "print(guys)"
   ]
  },
  {
   "cell_type": "code",
   "execution_count": 12,
   "metadata": {},
   "outputs": [
    {
     "name": "stdout",
     "output_type": "stream",
     "text": [
      "[['Harry', 16, False], ['Ron', 17, False], ['Hermione', 16, False], ['Hagrid', 67, True]]\n"
     ]
    }
   ],
   "source": [
    "guys[3][1] = 67\n",
    "print(guys)"
   ]
  },
  {
   "cell_type": "code",
   "execution_count": 13,
   "metadata": {
    "collapsed": true
   },
   "outputs": [],
   "source": [
    "guys.pop(2)\n",
    "guys.remove(person1)"
   ]
  },
  {
   "cell_type": "markdown",
   "metadata": {},
   "source": [
    "Note that trying to apply _remove()_ to an element after it was popped (or removed) will result in an error."
   ]
  },
  {
   "cell_type": "markdown",
   "metadata": {},
   "source": [
    "### Exercise 3"
   ]
  },
  {
   "cell_type": "code",
   "execution_count": 14,
   "metadata": {
    "collapsed": true
   },
   "outputs": [],
   "source": [
    "sentence = 'This is my magnificent example'"
   ]
  },
  {
   "cell_type": "code",
   "execution_count": 15,
   "metadata": {},
   "outputs": [
    {
     "name": "stdout",
     "output_type": "stream",
     "text": [
      "['This', 'is', 'my', 'magnificent', 'example']\n"
     ]
    }
   ],
   "source": [
    "sentence_list = sentence.split()\n",
    "print(sentence_list)"
   ]
  },
  {
   "cell_type": "code",
   "execution_count": 16,
   "metadata": {},
   "outputs": [
    {
     "name": "stdout",
     "output_type": "stream",
     "text": [
      "This\n",
      "is\n",
      "my\n",
      "magnificent\n",
      "example\n"
     ]
    }
   ],
   "source": [
    "sentence_in_lines = '\\n'.join(sentence_list)\n",
    "print(sentence_in_lines)"
   ]
  },
  {
   "cell_type": "code",
   "execution_count": 17,
   "metadata": {},
   "outputs": [
    {
     "name": "stdout",
     "output_type": "stream",
     "text": [
      "3\n",
      "3\n"
     ]
    }
   ],
   "source": [
    "# string methods\n",
    "num_of_m_1 = sentence.count('m')\n",
    "print(num_of_m_1)\n",
    "\n",
    "# list methods\n",
    "num_of_m_2 = len(sentence.split('m')) - 1\n",
    "print(num_of_m_2)"
   ]
  },
  {
   "cell_type": "markdown",
   "metadata": {},
   "source": [
    "## Dictionaries"
   ]
  },
  {
   "cell_type": "markdown",
   "metadata": {},
   "source": [
    "### Exercise 1"
   ]
  },
  {
   "cell_type": "code",
   "execution_count": 18,
   "metadata": {},
   "outputs": [
    {
     "name": "stdout",
     "output_type": "stream",
     "text": [
      "{'p': ['pizza', 'problem'], 'b': ['building', 'brain'], 'f': ['fight', 'flag']}\n"
     ]
    }
   ],
   "source": [
    "my_dict = {'p': ['pizza', 'problem'],\n",
    "           'b': ['building', 'brain'],\n",
    "           'f': ['fight', 'flag']}\n",
    "print(my_dict)"
   ]
  },
  {
   "cell_type": "code",
   "execution_count": 19,
   "metadata": {},
   "outputs": [
    {
     "name": "stdout",
     "output_type": "stream",
     "text": [
      "{'p': ['pizza', 'problem', 'play'], 'b': ['building', 'brain', 'ball'], 'f': ['fight', 'flag', 'fire']}\n"
     ]
    }
   ],
   "source": [
    "my_dict['p'].append('play')\n",
    "my_dict['b'].append('ball')\n",
    "my_dict['f'].append('fire')\n",
    "print(my_dict)"
   ]
  },
  {
   "cell_type": "code",
   "execution_count": 20,
   "metadata": {},
   "outputs": [
    {
     "name": "stdout",
     "output_type": "stream",
     "text": [
      "{'p': ['pizza', 'problem', 'play'], 'b': ['building', 'brain', 'ball'], 'g': ['gold', 'glory', 'goat'], 'f': ['fight', 'flag', 'fire']}\n"
     ]
    }
   ],
   "source": [
    "my_dict['g'] = ['gold', 'glory', 'goat']\n",
    "print(my_dict)"
   ]
  },
  {
   "cell_type": "code",
   "execution_count": 21,
   "metadata": {},
   "outputs": [
    {
     "name": "stdout",
     "output_type": "stream",
     "text": [
      "{'p': ['pizza', 'problem', 'play'], 'g': ['gold', 'glory', 'goat'], 'f': ['fight', 'flag', 'fire']}\n"
     ]
    }
   ],
   "source": [
    "my_dict.pop('b')\n",
    "print(my_dict)"
   ]
  },
  {
   "cell_type": "code",
   "execution_count": 22,
   "metadata": {},
   "outputs": [
    {
     "name": "stdout",
     "output_type": "stream",
     "text": [
      "[['pizza', 'problem', 'play'], ['gold', 'glory', 'goat'], ['fight', 'flag', 'fire']]\n"
     ]
    }
   ],
   "source": [
    "all_lists = list(my_dict.values())\n",
    "print(all_lists)"
   ]
  },
  {
   "cell_type": "markdown",
   "metadata": {},
   "source": [
    "### Exercise 2"
   ]
  },
  {
   "cell_type": "code",
   "execution_count": 23,
   "metadata": {
    "collapsed": true
   },
   "outputs": [],
   "source": [
    "# Europe\n",
    "france_cities = ['Paris', 'Lion']\n",
    "spain_cities = ['Madrid', 'Barcelona']\n",
    "\n",
    "# Asia\n",
    "japan_cities = ['Tokyo', 'Hiroshima']\n",
    "china_cities = ['Beijing', 'Shanghai']"
   ]
  },
  {
   "cell_type": "code",
   "execution_count": 24,
   "metadata": {},
   "outputs": [
    {
     "name": "stdout",
     "output_type": "stream",
     "text": [
      "{'Spain': ['Madrid', 'Barcelona'], 'France': ['Paris', 'Lion']}\n",
      "{'Japan': ['Tokyo', 'Hiroshima'], 'China': ['Beijing', 'Shanghai']}\n"
     ]
    }
   ],
   "source": [
    "europe_dict = {}\n",
    "europe_dict['France'] = france_cities\n",
    "europe_dict['Spain'] = spain_cities\n",
    "print(europe_dict)\n",
    "\n",
    "asia_dict = {}\n",
    "asia_dict['Japan'] = japan_cities\n",
    "asia_dict['China'] = china_cities\n",
    "print(asia_dict)"
   ]
  },
  {
   "cell_type": "code",
   "execution_count": 25,
   "metadata": {},
   "outputs": [
    {
     "name": "stdout",
     "output_type": "stream",
     "text": [
      "{'Europe': {'Spain': ['Madrid', 'Barcelona'], 'France': ['Paris', 'Lion']}, 'Asia': {'Japan': ['Tokyo', 'Hiroshima'], 'China': ['Beijing', 'Shanghai']}}\n"
     ]
    }
   ],
   "source": [
    "world_dict = {'Europe': europe_dict, 'Asia': asia_dict}\n",
    "print(world_dict)"
   ]
  },
  {
   "cell_type": "markdown",
   "metadata": {},
   "source": [
    "## Sets"
   ]
  },
  {
   "cell_type": "markdown",
   "metadata": {},
   "source": [
    "### Exercise 1"
   ]
  },
  {
   "cell_type": "code",
   "execution_count": 26,
   "metadata": {},
   "outputs": [
    {
     "name": "stdout",
     "output_type": "stream",
     "text": [
      "3\n"
     ]
    }
   ],
   "source": [
    "word1 = 'abracadabra'\n",
    "word2 = 'barbarian'\n",
    "print(len(set(word1) & set(word2)))"
   ]
  },
  {
   "cell_type": "markdown",
   "metadata": {},
   "source": [
    "### Exercise 2"
   ]
  },
  {
   "cell_type": "code",
   "execution_count": 27,
   "metadata": {
    "collapsed": true
   },
   "outputs": [],
   "source": [
    "sunday_visitors = ['abe', 'bob', 'carl', 'dave', 'ed',\n",
    "                   'heinrich', 'isabel', 'abe', 'fred']\n",
    "monday_visitors = ['abe', 'gale', 'ed', 'fred']\n",
    "tuesday_visitors = ['ed', 'bob', 'jack', 'fred', 'abe',\n",
    "                    'abe', 'jack', 'kent', 'gale']"
   ]
  },
  {
   "cell_type": "markdown",
   "metadata": {},
   "source": [
    "#### Question 1"
   ]
  },
  {
   "cell_type": "code",
   "execution_count": 28,
   "metadata": {},
   "outputs": [],
   "source": [
    "sunday_unique_visitors = set(sunday_visitors)\n",
    "monday_unique_visitors = set(monday_visitors)\n",
    "tuesday_unique_visitors = set(tuesday_visitors)\n",
    "unique_visitors = sunday_unique_visitors | monday_unique_visitors | tuesday_unique_visitors"
   ]
  },
  {
   "cell_type": "markdown",
   "metadata": {},
   "source": [
    "#### Question 2"
   ]
  },
  {
   "cell_type": "code",
   "execution_count": 29,
   "metadata": {},
   "outputs": [
    {
     "name": "stdout",
     "output_type": "stream",
     "text": [
      "False\n",
      "True\n",
      "False\n"
     ]
    }
   ],
   "source": [
    "print(sunday_unique_visitors < monday_unique_visitors | tuesday_unique_visitors)\n",
    "print(monday_unique_visitors < sunday_unique_visitors | tuesday_unique_visitors)\n",
    "print(tuesday_unique_visitors < sunday_unique_visitors | monday_unique_visitors)"
   ]
  },
  {
   "cell_type": "markdown",
   "metadata": {},
   "source": [
    "#### Question 3"
   ]
  },
  {
   "cell_type": "code",
   "execution_count": 30,
   "metadata": {
    "collapsed": true
   },
   "outputs": [],
   "source": [
    "persistent_visitors = (sunday_unique_visitors & monday_unique_visitors) | \\\n",
    "                      (monday_unique_visitors & tuesday_unique_visitors) | \\\n",
    "                      (sunday_unique_visitors & tuesday_unique_visitors)"
   ]
  },
  {
   "cell_type": "code",
   "execution_count": 31,
   "metadata": {
    "collapsed": true
   },
   "outputs": [],
   "source": [
    "very_persistent_visitors = sunday_unique_visitors & \\\n",
    "                           monday_unique_visitors & \\\n",
    "                           tuesday_unique_visitors"
   ]
  },
  {
   "cell_type": "markdown",
   "metadata": {},
   "source": [
    "#### Question 4"
   ]
  },
  {
   "cell_type": "code",
   "execution_count": 32,
   "metadata": {
    "collapsed": true
   },
   "outputs": [],
   "source": [
    "only_tuesday_visitors = tuesday_unique_visitors - \\\n",
    "                        (sunday_unique_visitors | monday_unique_visitors)"
   ]
  },
  {
   "cell_type": "markdown",
   "metadata": {},
   "source": [
    "#### Question 5"
   ]
  },
  {
   "cell_type": "code",
   "execution_count": 33,
   "metadata": {
    "collapsed": true
   },
   "outputs": [],
   "source": [
    "single_day_visitors = sunday_unique_visitors ^ monday_unique_visitors"
   ]
  }
 ],
 "metadata": {
  "anaconda-cloud": {},
  "kernelspec": {
   "display_name": "Python 3",
   "language": "python",
   "name": "python3"
  },
  "language_info": {
   "codemirror_mode": {
    "name": "ipython",
    "version": 3
   },
   "file_extension": ".py",
   "mimetype": "text/x-python",
   "name": "python",
   "nbconvert_exporter": "python",
   "pygments_lexer": "ipython3",
   "version": "3.6.3"
  }
 },
 "nbformat": 4,
 "nbformat_minor": 1
}
